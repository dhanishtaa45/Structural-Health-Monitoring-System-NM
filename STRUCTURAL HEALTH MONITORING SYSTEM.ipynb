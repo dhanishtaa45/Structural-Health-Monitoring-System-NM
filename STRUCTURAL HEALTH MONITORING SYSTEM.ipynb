{
 "cells": [
  {
   "cell_type": "code",
   "execution_count": 2,
   "metadata": {},
   "outputs": [
    {
     "name": "stdout",
     "output_type": "stream",
     "text": [
      "Starting Structural Health Monitoring...\n",
      "\n",
      "Sensor Data: {'strain': 67.69884618669991, 'vibration': 0.3324286940776896, 'temperature': 61.31609277340726}\n",
      "ALERT: Strain too high (67.70)!\n",
      "ALERT: Temperature too high (61.32)!\n",
      "----------------------------------------\n",
      "Sensor Data: {'strain': 57.54429874360714, 'vibration': 0.41118953897818955, 'temperature': 44.26012877503129}\n",
      "ALERT: Strain too high (57.54)!\n",
      "----------------------------------------\n",
      "Sensor Data: {'strain': 42.85100235016874, 'vibration': 0.4367259062654346, 'temperature': 30.549310500192572}\n",
      "----------------------------------------\n",
      "Sensor Data: {'strain': 47.515092369986334, 'vibration': 0.98489228401692, 'temperature': 25.966568980925242}\n",
      "ALERT: Vibration too high (0.98)!\n",
      "----------------------------------------\n",
      "Sensor Data: {'strain': 66.26032932258295, 'vibration': 0.3206076739505189, 'temperature': 66.58915150340545}\n",
      "ALERT: Strain too high (66.26)!\n",
      "ALERT: Temperature too high (66.59)!\n",
      "----------------------------------------\n"
     ]
    }
   ],
   "source": [
    "import time\n",
    "import random  # Required for random.uniform()\n",
    "\n",
    "# Simulated thresholds for safe values\n",
    "THRESHOLDS = {\n",
    "    \"strain\": 50.0,       # microstrain\n",
    "    \"vibration\": 0.5,     # g-force\n",
    "    \"temperature\": 60.0   # degrees Celsius\n",
    "}\n",
    "\n",
    "def read_sensor_data():\n",
    "    \"\"\"Simulate reading sensor data\"\"\"\n",
    "    return {\n",
    "        \"strain\": random.uniform(20.0, 70.0),\n",
    "        \"vibration\": random.uniform(0.1, 1.0),\n",
    "        \"temperature\": random.uniform(25.0, 80.0)\n",
    "    }\n",
    "\n",
    "def analyze_data(data):\n",
    "    \"\"\"Analyze the sensor data and check for threshold violations\"\"\"\n",
    "    alerts = []\n",
    "    for key, value in data.items():\n",
    "        if value > THRESHOLDS[key]:\n",
    "            alerts.append(f\"ALERT: {key.capitalize()} too high ({value:.2f})!\")\n",
    "    return alerts\n",
    "\n",
    "def monitor_structure():\n",
    "    \"\"\"Main monitoring loop\"\"\"\n",
    "    print(\"Starting Structural Health Monitoring...\\n\")\n",
    "    for _ in range(5):  # Simulate 5 readings\n",
    "        data = read_sensor_data()\n",
    "        print(f\"Sensor Data: {data}\")\n",
    "        alerts = analyze_data(data)\n",
    "        for alert in alerts:\n",
    "            print(alert)\n",
    "        print(\"-\" * 40)\n",
    "        time.sleep(1)  # Simulate delay between readings\n",
    "\n",
    "if __name__ == \"__main__\":\n",
    "    monitor_structure()\n"
   ]
  }
 ],
 "metadata": {
  "kernelspec": {
   "display_name": "Python 3",
   "language": "python",
   "name": "python3"
  },
  "language_info": {
   "codemirror_mode": {
    "name": "ipython",
    "version": 3
   },
   "file_extension": ".py",
   "mimetype": "text/x-python",
   "name": "python",
   "nbconvert_exporter": "python",
   "pygments_lexer": "ipython3",
   "version": "3.13.1"
  }
 },
 "nbformat": 4,
 "nbformat_minor": 2
}
